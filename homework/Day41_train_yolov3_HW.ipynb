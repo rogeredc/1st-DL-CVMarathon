{
 "cells": [
  {
   "cell_type": "markdown",
   "metadata": {
    "colab_type": "text",
    "id": "CG77DrrB2CrU"
   },
   "source": [
    "## 作業\n",
    "\n",
    "1. 如何使用已經訓練好的模型？\n",
    "2. 依照 https://github.com/qqwweee/keras-yolo3 的程式碼，請敘述，訓練模型時，資料集的格式是什麼？具體一點的說，要提供什麼格式的文件來描述資料集的圖片以及 bboxes 的信息呢？\n",
    "\n",
    "\n",
    "\n"
   ]
  },
  {
   "cell_type": "markdown",
   "metadata": {},
   "source": [
    "1.如何使用已經訓練好的模型？\n",
    "Answer:\n",
    "\n",
    "    (1). 下載yolov3的網路權重(yolo.h5)\n",
    "\n",
    "    (2). 將yolo.h5 轉換成keras 可讀的格式；透過convert.py 來轉換。\n",
    "\n",
    "    (3). 再以keras模型訓練字底的資料。\n",
    "\n",
    "2.依照 https://github.com/qqwweee/keras-yolo3 的程式碼，請敘述，訓練模型時，資料集的格式是什麼？具體一點的說，要提供什麼格式的文件來描述資料集的圖片以及 bboxes 的信息呢？\n",
    "Answer:\n",
    "\n",
    "yolo 資料集格式為物件框類別與中心座標及尺寸 (class, x, y, w, h), \n",
    "example: \n",
    "  1 0.159306 0.445455 0.078864 0.163636\n",
    "  4 0.190852 0.833333 0.378549 0.333333\n",
    "\n",
    "  class.txt:\n",
    "    dog\n",
    "    person\n",
    "    cat\n",
    "    tv\n",
    "    car\n",
    "    meatballs\n",
    "    marinara sauce\n",
    "    tomato soup\n",
    "    chicken noodle soup\n",
    "    french onion soup\n",
    "    chicken breast\n",
    "    ribs\n",
    "    pulled pork\n",
    "    hamburger\n",
    "    cavity\n",
    "\n",
    "需提供 PASCAL的格式( VOC2007格式所產生標註檔（.xml）內容)，主要表示物件框的類別與左上及右下((xmin、ymin)/(xmax、ymax))的座標。 \n",
    "example:\n",
    " <object>\n",
    "  <name>person</name>\n",
    "  <pose>Unspecified</pose>\n",
    "  <truncated>0</truncated>\n",
    "  <difficult>0</difficult>\n",
    "  <bndbox>\n",
    "    <xmin>76</xmin>\n",
    "    <ymin>120</ymin>\n",
    "    <xmax>126</xmax>\n",
    "    <ymax>174</ymax>\n",
    "  </bndbox>\n",
    "</object>\n"
   ]
  },
  {
   "cell_type": "code",
   "execution_count": null,
   "metadata": {},
   "outputs": [],
   "source": []
  }
 ],
 "metadata": {
  "accelerator": "GPU",
  "colab": {
   "collapsed_sections": [],
   "name": "Day41_train_yolov3_HW.ipynb",
   "provenance": []
  },
  "kernelspec": {
   "display_name": "Python 3",
   "language": "python",
   "name": "python3"
  },
  "language_info": {
   "codemirror_mode": {
    "name": "ipython",
    "version": 3
   },
   "file_extension": ".py",
   "mimetype": "text/x-python",
   "name": "python",
   "nbconvert_exporter": "python",
   "pygments_lexer": "ipython3",
   "version": "3.6.5"
  }
 },
 "nbformat": 4,
 "nbformat_minor": 1
}
