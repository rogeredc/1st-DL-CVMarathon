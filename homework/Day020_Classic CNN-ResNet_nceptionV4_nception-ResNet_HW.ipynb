{
 "cells": [
  {
   "cell_type": "markdown",
   "metadata": {},
   "source": [
    "## 『本次練習內容』\n",
    "#### 學習如何搭建 Residual Block\n",
    "####  學習如何搭建Inception-ResNet中的 Inception Block"
   ]
  },
  {
   "cell_type": "markdown",
   "metadata": {},
   "source": [
    "## 『本次練習目的』\n",
    "  #### 了解 Residual Block原理\n",
    "  #### 了解如何結合Inception 與 Residual概念"
   ]
  },
  {
   "cell_type": "markdown",
   "metadata": {},
   "source": [
    "---"
   ]
  },
  {
   "cell_type": "markdown",
   "metadata": {},
   "source": [
    "## Part1"
   ]
  },
  {
   "cell_type": "code",
   "execution_count": 2,
   "metadata": {},
   "outputs": [
    {
     "name": "stderr",
     "output_type": "stream",
     "text": [
      "Using TensorFlow backend.\n",
      "C:\\Users\\06006647\\AppData\\Local\\conda\\conda\\envs\\tf-gpu\\lib\\site-packages\\tensorflow\\python\\framework\\dtypes.py:523: FutureWarning: Passing (type, 1) or '1type' as a synonym of type is deprecated; in a future version of numpy, it will be understood as (type, (1,)) / '(1,)type'.\n",
      "  _np_qint8 = np.dtype([(\"qint8\", np.int8, 1)])\n",
      "C:\\Users\\06006647\\AppData\\Local\\conda\\conda\\envs\\tf-gpu\\lib\\site-packages\\tensorflow\\python\\framework\\dtypes.py:524: FutureWarning: Passing (type, 1) or '1type' as a synonym of type is deprecated; in a future version of numpy, it will be understood as (type, (1,)) / '(1,)type'.\n",
      "  _np_quint8 = np.dtype([(\"quint8\", np.uint8, 1)])\n",
      "C:\\Users\\06006647\\AppData\\Local\\conda\\conda\\envs\\tf-gpu\\lib\\site-packages\\tensorflow\\python\\framework\\dtypes.py:525: FutureWarning: Passing (type, 1) or '1type' as a synonym of type is deprecated; in a future version of numpy, it will be understood as (type, (1,)) / '(1,)type'.\n",
      "  _np_qint16 = np.dtype([(\"qint16\", np.int16, 1)])\n",
      "C:\\Users\\06006647\\AppData\\Local\\conda\\conda\\envs\\tf-gpu\\lib\\site-packages\\tensorflow\\python\\framework\\dtypes.py:526: FutureWarning: Passing (type, 1) or '1type' as a synonym of type is deprecated; in a future version of numpy, it will be understood as (type, (1,)) / '(1,)type'.\n",
      "  _np_quint16 = np.dtype([(\"quint16\", np.uint16, 1)])\n",
      "C:\\Users\\06006647\\AppData\\Local\\conda\\conda\\envs\\tf-gpu\\lib\\site-packages\\tensorflow\\python\\framework\\dtypes.py:527: FutureWarning: Passing (type, 1) or '1type' as a synonym of type is deprecated; in a future version of numpy, it will be understood as (type, (1,)) / '(1,)type'.\n",
      "  _np_qint32 = np.dtype([(\"qint32\", np.int32, 1)])\n",
      "C:\\Users\\06006647\\AppData\\Local\\conda\\conda\\envs\\tf-gpu\\lib\\site-packages\\tensorflow\\python\\framework\\dtypes.py:532: FutureWarning: Passing (type, 1) or '1type' as a synonym of type is deprecated; in a future version of numpy, it will be understood as (type, (1,)) / '(1,)type'.\n",
      "  np_resource = np.dtype([(\"resource\", np.ubyte, 1)])\n"
     ]
    }
   ],
   "source": [
    "import numpy as np\n",
    "from keras.models import Model\n",
    "from keras.layers import Flatten\n",
    "from keras.layers import Dense\n",
    "from keras.layers import Input\n",
    "from keras.layers import Conv2D\n",
    "from keras.layers import MaxPooling2D\n",
    "from keras.layers import GlobalMaxPooling2D\n",
    "from keras.layers import GlobalAveragePooling2D\n",
    "from keras import backend as K\n",
    "from keras import layers\n",
    "from keras.layers import BatchNormalization\n",
    "from keras.layers import Activation\n",
    "from keras.layers import Concatenate\n",
    "from keras.layers import Lambda"
   ]
  },
  {
   "cell_type": "markdown",
   "metadata": {},
   "source": [
    "![Incpeiton](ResNet_Structure.png)"
   ]
  },
  {
   "cell_type": "markdown",
   "metadata": {},
   "source": [
    "## ResNetV1"
   ]
  },
  {
   "cell_type": "code",
   "execution_count": 3,
   "metadata": {},
   "outputs": [],
   "source": [
    "def Residual_block(input_tensor, kernel_size, filters, stage, block):\n",
    "    filters1, filters2, filters3 = filters\n",
    "    conv_name_base = 'res' + str(stage) + block + '_branch'\n",
    "    bn_name_base = 'bn' + str(stage) + block + '_branch'\n",
    "\n",
    "    x = Conv2D(filters1, (1, 1), name=conv_name_base + '2a')(input_tensor)\n",
    "    x = BatchNormalization(axis=3, name=bn_name_base + '2a')(x)\n",
    "    x = Activation('relu')(x)\n",
    "\n",
    "    x = Conv2D(filters2, kernel_size,\n",
    "               padding='same', name=conv_name_base + '2b')(x)\n",
    "    x = BatchNormalization(axis=3, name=bn_name_base + '2b')(x)\n",
    "   \n",
    "\n",
    "    x = layers.add([x, input_tensor])\n",
    "    x = Activation('relu')(x)\n",
    "    return x"
   ]
  },
  {
   "cell_type": "markdown",
   "metadata": {},
   "source": [
    "## 參考ResNetV1 搭建 ResNetV2版本的Residual Block"
   ]
  },
  {
   "cell_type": "code",
   "execution_count": 4,
   "metadata": {},
   "outputs": [],
   "source": [
    "def Residual_block_v2(input_tensor, kernel_size, filters, stage, block):\n",
    "    filters1, filters2, filters3 = filters\n",
    "    conv_name_base = 'res' + str(stage) + block + '_branch'\n",
    "    bn_name_base = 'bn' + str(stage) + block + '_branch'\n",
    "\n",
    "    x = BatchNormalization(axis=3, name=bn_name_base + '2a')(input_tensor)\n",
    "    x = Activation('relu')(x)\n",
    "    x = Conv2D(filters1, (1, 1), name=conv_name_base + '2a')(x)\n",
    "    x = BatchNormalization(axis=3, name=bn_name_base + '2b')(x)\n",
    "    x = Activation('relu')(x)\n",
    "    x = Conv2D(filters2, kernel_size,\n",
    "               padding='same', name=conv_name_base + '2b')(x)\n",
    "\n",
    "    return x"
   ]
  },
  {
   "cell_type": "markdown",
   "metadata": {},
   "source": [
    "## 試試看自己設計一個先壓縮再回放的V2 Block"
   ]
  },
  {
   "cell_type": "code",
   "execution_count": 5,
   "metadata": {},
   "outputs": [],
   "source": [
    "def Residual_block_v2(input_tensor, kernel_size, stage, block,reduce=96,ouput_size=128):\n",
    "    filters1= filters\n",
    "    conv_name_base = 'res' + str(stage) + block + '_branch'\n",
    "    bn_name_base = 'bn' + str(stage) + block + '_branch'\n",
    "    \n",
    "    x = BatchNormalization(axis=3, name=bn_name_base + '2a')(input_tensor)\n",
    "    x = Activation('relu')(x)\n",
    "    x = Conv2D(reduce, (1, 1), name=conv_name_base + '2a')(x)\n",
    "    x = BatchNormalization(axis=3, name=bn_name_base + '2b')(x)\n",
    "    x = Activation('relu')(x)\n",
    "    x = Conv2D(ouput_size, kernel_size,\n",
    "               padding='same', name=conv_name_base + '2b')(x)\n",
    "    \n",
    "    x = BatchNormalization(axis=3, name=bn_name_base + '2c')(x)\n",
    "    x = Activation('relu')(x)\n",
    "    x = Conv2D(ouput_size, (1, 1),\n",
    "               padding='same', name=conv_name_base + 'c')(x)\n",
    "\n",
    "    return x"
   ]
  },
  {
   "cell_type": "markdown",
   "metadata": {},
   "source": [
    "---"
   ]
  },
  {
   "cell_type": "markdown",
   "metadata": {},
   "source": [
    "## Part2"
   ]
  },
  {
   "cell_type": "markdown",
   "metadata": {
    "colab_type": "text",
    "id": "tfa8Vx5iJbZU"
   },
   "source": [
    "## Incpetion Block-A"
   ]
  },
  {
   "cell_type": "markdown",
   "metadata": {
    "colab_type": "text",
    "id": "xbuyi79mJbZX"
   },
   "source": [
    "![Incpeiton](Inception-ResNet-A.png)"
   ]
  },
  {
   "cell_type": "markdown",
   "metadata": {
    "colab_type": "text",
    "id": "3GI24k24JbZa"
   },
   "source": [
    "## Incpetion Block-B"
   ]
  },
  {
   "cell_type": "markdown",
   "metadata": {
    "colab_type": "text",
    "id": "Ge28e58BJbZd"
   },
   "source": [
    "![Incpeiton](Inception-ResNet-B.png)"
   ]
  },
  {
   "cell_type": "markdown",
   "metadata": {
    "colab_type": "text",
    "id": "aMz1WNBsJbZg"
   },
   "source": [
    "## Incpetion Block-C"
   ]
  },
  {
   "cell_type": "markdown",
   "metadata": {
    "colab_type": "text",
    "id": "A4lY1HV6JbZj"
   },
   "source": [
    "![Incpeiton](Inception-ResNet-C.png)"
   ]
  },
  {
   "cell_type": "code",
   "execution_count": 6,
   "metadata": {
    "colab": {},
    "colab_type": "code",
    "id": "t9IKAa_4JbZ1"
   },
   "outputs": [],
   "source": [
    "def Conv2d_bn(x,filters,kernel_size,padding='same',strides=(1, 1),normalizer=True,activation='relu',name=None):\n",
    "    if name is not None:\n",
    "        conv_name = name + '_conv'\n",
    "        bn_name = name + '_bn'\n",
    "        act_name = name + '_act'\n",
    "    else:\n",
    "        conv_name = None\n",
    "        bn_name = None\n",
    "        act_name = None\n",
    "    if K.image_data_format() == 'channels_first':\n",
    "        bn_axis = 1\n",
    "    else:\n",
    "        bn_axis = 3\n",
    "    x = Conv2D(\n",
    "            filters, kernel_size,\n",
    "            strides=strides, padding=padding,\n",
    "            use_bias=False, name=conv_name)(x)\n",
    "    if normalizer:\n",
    "        x = BatchNormalization(axis=bn_axis, scale=False, name=bn_name)(x)\n",
    "    if activation:\n",
    "        x = Activation(activation, name=act_name)(x)\n",
    "    return x"
   ]
  },
  {
   "cell_type": "code",
   "execution_count": 7,
   "metadata": {
    "colab": {},
    "colab_type": "code",
    "id": "d7iVPJQkJbZ-"
   },
   "outputs": [],
   "source": [
    "def Residual_block(input_tensor, kernel_size, filters, stage, block):\n",
    "    filters1, filters2, filters3 = filters\n",
    "    conv_name_base = 'res' + str(stage) + block + '_branch'\n",
    "    bn_name_base = 'bn' + str(stage) + block + '_branch'\n",
    "\n",
    "    x = Conv2D(filters1, (1, 1), name=conv_name_base + '2a')(input_tensor)\n",
    "    x = BatchNormalization(axis=3, name=bn_name_base + '2a')(x)\n",
    "    x = Activation('relu')(x)\n",
    "\n",
    "    x = Conv2D(filters2, kernel_size,\n",
    "               padding='same', name=conv_name_base + '2b')(x)\n",
    "    x = BatchNormalization(axis=3, name=bn_name_base + '2b')(x)\n",
    "    x = Activation('relu')(x)\n",
    "\n",
    "    x = Conv2D(filters3, (1, 1), name=conv_name_base + '2c')(x)\n",
    "    x = BatchNormalization(axis=3, name=bn_name_base + '2c')(x)\n",
    "\n",
    "    x = layers.add([x, input_tensor])\n",
    "    x = Activation('relu')(x)\n",
    "    return x"
   ]
  },
  {
   "cell_type": "markdown",
   "metadata": {
    "colab_type": "text",
    "id": "M0BEkO7VJbaI"
   },
   "source": [
    "## 參考上方Residual_block搭建 Inception-ResNet中的Inception Block"
   ]
  },
  {
   "cell_type": "code",
   "execution_count": 8,
   "metadata": {
    "colab": {},
    "colab_type": "code",
    "id": "XJjxq9lWJbaN"
   },
   "outputs": [],
   "source": [
    "def inception_resnet_block(x, scale, block_type, activation='relu'):\n",
    "    '''scale: scaling factor to scale the residuals (i.e., the output of\n",
    "            passing `x` through an inception module) before adding them\n",
    "            to the shortcut branch. Let `r` be the output from the residual branch,\n",
    "            the output of this block will be `x + scale * r`.(簡單來說就是控制Residual branch的比例)'''\n",
    "    if block_type == 'Incpetion_Block-A':\n",
    "        branch_0 = Conv2d_bn(x,32,(1,1),name=block_type+'b0')\n",
    "        branch_1 = Conv2d_bn(x,32,(1,1),name=block_type+'b1_1')\n",
    "        branch_1 = Conv2d_bn(branch_1,32,(3,3),name=block_type+'b1_2')\n",
    "        branch_2 = Conv2d_bn(x,32,(1,1),name=block_type+'b2_1')\n",
    "        branch_2 = Conv2d_bn(branch_2,48,(3,3),name=block_type+'b2_2')\n",
    "        branch_2 = Conv2d_bn(branch_2,64,(3,1),name=block_type+'b2_3')\n",
    "        branches = [branch_0, branch_1, branch_2]\n",
    "    elif block_type == 'Incpetion_Block-B':\n",
    "        branch_0 = Conv2d_bn(x,192,(1,1),name=block_type+'b0')\n",
    "        branch_1 = Conv2d_bn(x,128,(1,1),name=block_type+'b1_1')\n",
    "        branch_1 = Conv2d_bn(x,160,(1,7),name=block_type+'b1_2')\n",
    "        branch_1 = Conv2d_bn(x,192,(7,1),name=block_type+'b1_3')\n",
    "        branches = [branch_0, branch_1]\n",
    "    elif block_type == 'Incpetion_Block-C':\n",
    "        branch_0 = Conv2d_bn(x,192,(1,1),name=block_type+'b0')\n",
    "        branch_1 = Conv2d_bn(x,192,(1,1),name=block_type+'b1_1')\n",
    "        branch_1 = Conv2d_bn(x,192,(1,3),name=block_type+'b1_1')\n",
    "        branch_1 = Conv2d_bn(x,192,(3,1),name=block_type+'b1_1')\n",
    "        branches = [branch_0, branch_1]\n",
    "    else:\n",
    "        raise ValueError('Unknown Inception-ResNet block type. '\n",
    "                         'Expects \"block35\", \"block17\" or \"block8\", '\n",
    "                         'but got: ' + str(block_type))\n",
    "    mixed = Concatenate(axis=3)(branches)\n",
    "    \n",
    "    '''確保輸入跟輸出深度相同'''\n",
    "    up = Conv2d_bn(mixed,K.int_shape(x)[3],1,activation=None)\n",
    "    \n",
    "    '''導入殘差結構，並給予權重'''\n",
    "    \n",
    "    x = Lambda(lambda inputs, scale: inputs[0] + inputs[1] * scale, ##提示inputs[0]、inputs[1]\n",
    "               output_shape=K.int_shape(x)[1:],\n",
    "               arguments={'scale': scale},)([x,up])\n",
    "    \n",
    "    if activation is not None:\n",
    "        x = Activation(activation)(x)\n",
    "    return x\n"
   ]
  },
  {
   "cell_type": "code",
   "execution_count": 9,
   "metadata": {
    "colab": {},
    "colab_type": "code",
    "id": "wv-ni8GpJbaU",
    "outputId": "dcf7198f-59a6-4eac-d912-565146b1ce16"
   },
   "outputs": [
    {
     "name": "stdout",
     "output_type": "stream",
     "text": [
      "Tensor(\"activation_1/Relu:0\", shape=(?, 224, 224, 32), dtype=float32)\n"
     ]
    }
   ],
   "source": [
    "img_input = Input(shape=(224,224,32))\n",
    "x=inception_resnet_block(img_input, 0.1, 'Incpetion_Block-A', activation='relu')\n",
    "print(x)"
   ]
  },
  {
   "cell_type": "markdown",
   "metadata": {
    "colab_type": "text",
    "id": "HOBuOAjOJbab"
   },
   "source": [
    "## 測試"
   ]
  },
  {
   "cell_type": "code",
   "execution_count": 10,
   "metadata": {
    "colab": {},
    "colab_type": "code",
    "id": "T-igNjppJbad",
    "outputId": "0455b644-5456-4145-d719-3878348aa4cb"
   },
   "outputs": [
    {
     "name": "stdout",
     "output_type": "stream",
     "text": [
      "Tensor(\"activation_2/Relu:0\", shape=(?, 224, 224, 32), dtype=float32)\n"
     ]
    }
   ],
   "source": [
    "img_input = Input(shape=(224,224,32))\n",
    "x=inception_resnet_block(img_input, 0.1, 'Incpetion_Block-A', activation='relu')\n",
    "print(x)"
   ]
  },
  {
   "cell_type": "code",
   "execution_count": 11,
   "metadata": {
    "colab": {},
    "colab_type": "code",
    "id": "V7otKKZWJbah",
    "outputId": "bca7b98f-b8ab-4318-d884-77c8ee7c7fa8"
   },
   "outputs": [
    {
     "name": "stdout",
     "output_type": "stream",
     "text": [
      "Tensor(\"activation_3/Relu:0\", shape=(?, 224, 224, 32), dtype=float32)\n"
     ]
    }
   ],
   "source": [
    "img_input = Input(shape=(224,224,32))\n",
    "x=inception_resnet_block(img_input, 0.1, 'Incpetion_Block-B', activation='relu')\n",
    "print(x)"
   ]
  },
  {
   "cell_type": "code",
   "execution_count": 12,
   "metadata": {
    "colab": {},
    "colab_type": "code",
    "id": "RjxCkTlHJbal",
    "outputId": "462b602c-2a47-4790-eff4-13c875aba275"
   },
   "outputs": [
    {
     "name": "stdout",
     "output_type": "stream",
     "text": [
      "Tensor(\"activation_4/Relu:0\", shape=(?, 224, 224, 32), dtype=float32)\n"
     ]
    }
   ],
   "source": [
    "img_input = Input(shape=(224,224,32))\n",
    "x=inception_resnet_block(img_input, 0.1, 'Incpetion_Block-C', activation='relu')\n",
    "print(x)"
   ]
  },
  {
   "cell_type": "markdown",
   "metadata": {
    "colab_type": "text",
    "id": "UYD4kS0BJbao"
   },
   "source": [
    "## 嘗試導入Inception Block到 Vgg_Inception中"
   ]
  },
  {
   "cell_type": "code",
   "execution_count": 15,
   "metadata": {
    "colab": {},
    "colab_type": "code",
    "id": "FEe8WW2qJbap"
   },
   "outputs": [],
   "source": [
    "def VGG16_ResNet_Inception(include_top=True,input_tensor=None, input_shape=(224,224,1),\n",
    "          pooling='max',classes=1000):\n",
    " \n",
    "    img_input = Input(shape=input_shape)\n",
    "    \n",
    "    x = Conv2d_bn(img_input,64, (3, 3), activation='relu', padding='same', name='block1_conv1')\n",
    "    x = Conv2d_bn(x,64, (3, 3), activation='relu', padding='same', name='block1_conv2')\n",
    "    x = MaxPooling2D((2, 2), strides=(2, 2), name='block1_pool')(x)\n",
    "\n",
    "    # Block 2\n",
    "    x = Conv2d_bn(x,128, (3, 3), activation='relu', padding='same', name='block2_conv1')\n",
    "    x = Conv2d_bn(x,128, (3, 3), activation='relu', padding='same', name='block2_conv2')\n",
    "    x = MaxPooling2D((2, 2), strides=(2, 2), name='block2_pool')(x)\n",
    "\n",
    "    # Block 3\n",
    "    x = inception_resnet_block(x, 0.1, 'Incpetion_Block-A', activation='relu')\n",
    "    x = MaxPooling2D((2, 2), strides=(2, 2), name='block3_pool')(x)\n",
    "\n",
    "    # Block 4\n",
    "    x = Conv2d_bn(x,512, (3, 3), activation='relu', padding='same', name='block4_conv1')\n",
    "    x = Conv2d_bn(x,512, (3, 3), activation='relu', padding='same', name='block4_conv2')\n",
    "    x = Conv2d_bn(x,512, (3, 3), activation='relu', padding='same', name='block4_conv3')\n",
    "    x = MaxPooling2D((2, 2), strides=(2, 2), name='block4_pool')(x)\n",
    "\n",
    "    # Block 5 \n",
    "    #為什麼要加InceptionV3_block 原因?\n",
    "    x = inception_resnet_block(x, 0.1, 'Incpetion_Block-B', activation='relu')\n",
    "    x =MaxPooling2D((2, 2), strides=(2, 2), name='block5_pool')(x)\n",
    "\n",
    "    if include_top:\n",
    "        # Classification block\n",
    "        x = Flatten(name='flatten')(x)\n",
    "        x = Dense(4096, activation='relu', name='fc1')(x)\n",
    "        x = Dense(4096, activation='relu', name='fc2')(x)\n",
    "        x = Dense(classes, activation='softmax', name='predictions')(x)\n",
    "    else:\n",
    "       #可以提醒學員為什麼要加avg或是max\n",
    "        if pooling == 'avg':\n",
    "            x = GlobalAveragePooling2D()(x)\n",
    "        elif pooling == 'max':\n",
    "            x = GlobalMaxPooling2D()(x)\n",
    "\n",
    "    inputs = img_input\n",
    "    # Create model.\n",
    "    model = Model(inputs, x, name='vgg16')\n",
    "\n",
    "   \n",
    "    return model\n",
    "\n"
   ]
  },
  {
   "cell_type": "code",
   "execution_count": 16,
   "metadata": {
    "colab": {},
    "colab_type": "code",
    "id": "mQufg4jFJbas"
   },
   "outputs": [],
   "source": [
    "model = VGG16_ResNet_Inception(include_top=False)"
   ]
  },
  {
   "cell_type": "code",
   "execution_count": 17,
   "metadata": {
    "colab": {},
    "colab_type": "code",
    "id": "e3WfMLiYJbav"
   },
   "outputs": [
    {
     "name": "stdout",
     "output_type": "stream",
     "text": [
      "__________________________________________________________________________________________________\n",
      "Layer (type)                    Output Shape         Param #     Connected to                     \n",
      "==================================================================================================\n",
      "input_6 (InputLayer)            (None, 224, 224, 1)  0                                            \n",
      "__________________________________________________________________________________________________\n",
      "block1_conv1_conv (Conv2D)      (None, 224, 224, 64) 576         input_6[0][0]                    \n",
      "__________________________________________________________________________________________________\n",
      "block1_conv1_bn (BatchNormaliza (None, 224, 224, 64) 192         block1_conv1_conv[0][0]          \n",
      "__________________________________________________________________________________________________\n",
      "block1_conv1_act (Activation)   (None, 224, 224, 64) 0           block1_conv1_bn[0][0]            \n",
      "__________________________________________________________________________________________________\n",
      "block1_conv2_conv (Conv2D)      (None, 224, 224, 64) 36864       block1_conv1_act[0][0]           \n",
      "__________________________________________________________________________________________________\n",
      "block1_conv2_bn (BatchNormaliza (None, 224, 224, 64) 192         block1_conv2_conv[0][0]          \n",
      "__________________________________________________________________________________________________\n",
      "block1_conv2_act (Activation)   (None, 224, 224, 64) 0           block1_conv2_bn[0][0]            \n",
      "__________________________________________________________________________________________________\n",
      "block1_pool (MaxPooling2D)      (None, 112, 112, 64) 0           block1_conv2_act[0][0]           \n",
      "__________________________________________________________________________________________________\n",
      "block2_conv1_conv (Conv2D)      (None, 112, 112, 128 73728       block1_pool[0][0]                \n",
      "__________________________________________________________________________________________________\n",
      "block2_conv1_bn (BatchNormaliza (None, 112, 112, 128 384         block2_conv1_conv[0][0]          \n",
      "__________________________________________________________________________________________________\n",
      "block2_conv1_act (Activation)   (None, 112, 112, 128 0           block2_conv1_bn[0][0]            \n",
      "__________________________________________________________________________________________________\n",
      "block2_conv2_conv (Conv2D)      (None, 112, 112, 128 147456      block2_conv1_act[0][0]           \n",
      "__________________________________________________________________________________________________\n",
      "block2_conv2_bn (BatchNormaliza (None, 112, 112, 128 384         block2_conv2_conv[0][0]          \n",
      "__________________________________________________________________________________________________\n",
      "block2_conv2_act (Activation)   (None, 112, 112, 128 0           block2_conv2_bn[0][0]            \n",
      "__________________________________________________________________________________________________\n",
      "block2_pool (MaxPooling2D)      (None, 56, 56, 128)  0           block2_conv2_act[0][0]           \n",
      "__________________________________________________________________________________________________\n",
      "Incpetion_Block-Ab2_1_conv (Con (None, 56, 56, 32)   4096        block2_pool[0][0]                \n",
      "__________________________________________________________________________________________________\n",
      "Incpetion_Block-Ab2_1_bn (Batch (None, 56, 56, 32)   96          Incpetion_Block-Ab2_1_conv[0][0] \n",
      "__________________________________________________________________________________________________\n",
      "Incpetion_Block-Ab2_1_act (Acti (None, 56, 56, 32)   0           Incpetion_Block-Ab2_1_bn[0][0]   \n",
      "__________________________________________________________________________________________________\n",
      "Incpetion_Block-Ab1_1_conv (Con (None, 56, 56, 32)   4096        block2_pool[0][0]                \n",
      "__________________________________________________________________________________________________\n",
      "Incpetion_Block-Ab2_2_conv (Con (None, 56, 56, 48)   13824       Incpetion_Block-Ab2_1_act[0][0]  \n",
      "__________________________________________________________________________________________________\n",
      "Incpetion_Block-Ab1_1_bn (Batch (None, 56, 56, 32)   96          Incpetion_Block-Ab1_1_conv[0][0] \n",
      "__________________________________________________________________________________________________\n",
      "Incpetion_Block-Ab2_2_bn (Batch (None, 56, 56, 48)   144         Incpetion_Block-Ab2_2_conv[0][0] \n",
      "__________________________________________________________________________________________________\n",
      "Incpetion_Block-Ab1_1_act (Acti (None, 56, 56, 32)   0           Incpetion_Block-Ab1_1_bn[0][0]   \n",
      "__________________________________________________________________________________________________\n",
      "Incpetion_Block-Ab2_2_act (Acti (None, 56, 56, 48)   0           Incpetion_Block-Ab2_2_bn[0][0]   \n",
      "__________________________________________________________________________________________________\n",
      "Incpetion_Block-Ab0_conv (Conv2 (None, 56, 56, 32)   4096        block2_pool[0][0]                \n",
      "__________________________________________________________________________________________________\n",
      "Incpetion_Block-Ab1_2_conv (Con (None, 56, 56, 32)   9216        Incpetion_Block-Ab1_1_act[0][0]  \n",
      "__________________________________________________________________________________________________\n",
      "Incpetion_Block-Ab2_3_conv (Con (None, 56, 56, 64)   9216        Incpetion_Block-Ab2_2_act[0][0]  \n",
      "__________________________________________________________________________________________________\n",
      "Incpetion_Block-Ab0_bn (BatchNo (None, 56, 56, 32)   96          Incpetion_Block-Ab0_conv[0][0]   \n",
      "__________________________________________________________________________________________________\n",
      "Incpetion_Block-Ab1_2_bn (Batch (None, 56, 56, 32)   96          Incpetion_Block-Ab1_2_conv[0][0] \n",
      "__________________________________________________________________________________________________\n",
      "Incpetion_Block-Ab2_3_bn (Batch (None, 56, 56, 64)   192         Incpetion_Block-Ab2_3_conv[0][0] \n",
      "__________________________________________________________________________________________________\n",
      "Incpetion_Block-Ab0_act (Activa (None, 56, 56, 32)   0           Incpetion_Block-Ab0_bn[0][0]     \n",
      "__________________________________________________________________________________________________\n",
      "Incpetion_Block-Ab1_2_act (Acti (None, 56, 56, 32)   0           Incpetion_Block-Ab1_2_bn[0][0]   \n",
      "__________________________________________________________________________________________________\n",
      "Incpetion_Block-Ab2_3_act (Acti (None, 56, 56, 64)   0           Incpetion_Block-Ab2_3_bn[0][0]   \n",
      "__________________________________________________________________________________________________\n",
      "concatenate_11 (Concatenate)    (None, 56, 56, 128)  0           Incpetion_Block-Ab0_act[0][0]    \n",
      "                                                                 Incpetion_Block-Ab1_2_act[0][0]  \n",
      "                                                                 Incpetion_Block-Ab2_3_act[0][0]  \n",
      "__________________________________________________________________________________________________\n",
      "conv2d_11 (Conv2D)              (None, 56, 56, 128)  16384       concatenate_11[0][0]             \n",
      "__________________________________________________________________________________________________\n",
      "batch_normalization_11 (BatchNo (None, 56, 56, 128)  384         conv2d_11[0][0]                  \n",
      "__________________________________________________________________________________________________\n",
      "lambda_11 (Lambda)              (None, 56, 56, 128)  0           block2_pool[0][0]                \n",
      "                                                                 batch_normalization_11[0][0]     \n",
      "__________________________________________________________________________________________________\n",
      "activation_11 (Activation)      (None, 56, 56, 128)  0           lambda_11[0][0]                  \n",
      "__________________________________________________________________________________________________\n",
      "block3_pool (MaxPooling2D)      (None, 28, 28, 128)  0           activation_11[0][0]              \n",
      "__________________________________________________________________________________________________\n",
      "block4_conv1_conv (Conv2D)      (None, 28, 28, 512)  589824      block3_pool[0][0]                \n",
      "__________________________________________________________________________________________________\n",
      "block4_conv1_bn (BatchNormaliza (None, 28, 28, 512)  1536        block4_conv1_conv[0][0]          \n",
      "__________________________________________________________________________________________________\n",
      "block4_conv1_act (Activation)   (None, 28, 28, 512)  0           block4_conv1_bn[0][0]            \n",
      "__________________________________________________________________________________________________\n",
      "block4_conv2_conv (Conv2D)      (None, 28, 28, 512)  2359296     block4_conv1_act[0][0]           \n",
      "__________________________________________________________________________________________________\n",
      "block4_conv2_bn (BatchNormaliza (None, 28, 28, 512)  1536        block4_conv2_conv[0][0]          \n",
      "__________________________________________________________________________________________________\n",
      "block4_conv2_act (Activation)   (None, 28, 28, 512)  0           block4_conv2_bn[0][0]            \n",
      "__________________________________________________________________________________________________\n",
      "block4_conv3_conv (Conv2D)      (None, 28, 28, 512)  2359296     block4_conv2_act[0][0]           \n",
      "__________________________________________________________________________________________________\n",
      "block4_conv3_bn (BatchNormaliza (None, 28, 28, 512)  1536        block4_conv3_conv[0][0]          \n",
      "__________________________________________________________________________________________________\n",
      "block4_conv3_act (Activation)   (None, 28, 28, 512)  0           block4_conv3_bn[0][0]            \n",
      "__________________________________________________________________________________________________\n",
      "block4_pool (MaxPooling2D)      (None, 14, 14, 512)  0           block4_conv3_act[0][0]           \n",
      "__________________________________________________________________________________________________\n",
      "Incpetion_Block-Bb0_conv (Conv2 (None, 14, 14, 192)  98304       block4_pool[0][0]                \n",
      "__________________________________________________________________________________________________\n",
      "Incpetion_Block-Bb1_3_conv (Con (None, 14, 14, 192)  688128      block4_pool[0][0]                \n",
      "__________________________________________________________________________________________________\n",
      "Incpetion_Block-Bb0_bn (BatchNo (None, 14, 14, 192)  576         Incpetion_Block-Bb0_conv[0][0]   \n",
      "__________________________________________________________________________________________________\n",
      "Incpetion_Block-Bb1_3_bn (Batch (None, 14, 14, 192)  576         Incpetion_Block-Bb1_3_conv[0][0] \n",
      "__________________________________________________________________________________________________\n",
      "Incpetion_Block-Bb0_act (Activa (None, 14, 14, 192)  0           Incpetion_Block-Bb0_bn[0][0]     \n",
      "__________________________________________________________________________________________________\n",
      "Incpetion_Block-Bb1_3_act (Acti (None, 14, 14, 192)  0           Incpetion_Block-Bb1_3_bn[0][0]   \n",
      "__________________________________________________________________________________________________\n",
      "concatenate_12 (Concatenate)    (None, 14, 14, 384)  0           Incpetion_Block-Bb0_act[0][0]    \n",
      "                                                                 Incpetion_Block-Bb1_3_act[0][0]  \n",
      "__________________________________________________________________________________________________\n",
      "conv2d_12 (Conv2D)              (None, 14, 14, 512)  196608      concatenate_12[0][0]             \n",
      "__________________________________________________________________________________________________\n",
      "batch_normalization_12 (BatchNo (None, 14, 14, 512)  1536        conv2d_12[0][0]                  \n",
      "__________________________________________________________________________________________________\n",
      "lambda_12 (Lambda)              (None, 14, 14, 512)  0           block4_pool[0][0]                \n",
      "                                                                 batch_normalization_12[0][0]     \n",
      "__________________________________________________________________________________________________\n",
      "activation_12 (Activation)      (None, 14, 14, 512)  0           lambda_12[0][0]                  \n",
      "__________________________________________________________________________________________________\n",
      "block5_pool (MaxPooling2D)      (None, 7, 7, 512)    0           activation_12[0][0]              \n",
      "__________________________________________________________________________________________________\n",
      "global_max_pooling2d_2 (GlobalM (None, 512)          0           block5_pool[0][0]                \n",
      "==================================================================================================\n",
      "Total params: 6,620,560\n",
      "Trainable params: 6,614,192\n",
      "Non-trainable params: 6,368\n",
      "__________________________________________________________________________________________________\n"
     ]
    }
   ],
   "source": [
    "model.summary()"
   ]
  },
  {
   "cell_type": "code",
   "execution_count": null,
   "metadata": {},
   "outputs": [],
   "source": []
  }
 ],
 "metadata": {
  "colab": {
   "name": "Classic CNN-ResNet、InceptionV4、Inception-ResNet作業.ipynb",
   "provenance": []
  },
  "kernelspec": {
   "display_name": "Python (tf-gpu)",
   "language": "python",
   "name": "myenv"
  },
  "language_info": {
   "codemirror_mode": {
    "name": "ipython",
    "version": 3
   },
   "file_extension": ".py",
   "mimetype": "text/x-python",
   "name": "python",
   "nbconvert_exporter": "python",
   "pygments_lexer": "ipython3",
   "version": "3.5.6"
  }
 },
 "nbformat": 4,
 "nbformat_minor": 1
}
