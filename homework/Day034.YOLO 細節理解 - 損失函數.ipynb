{
 "cells": [
  {
   "cell_type": "markdown",
   "metadata": {},
   "source": [
    "# Day34.YOLO 細節理解 - 損失函數\n",
    "今天的課程，我們講述了\n",
    "\n",
    "損失函數是描述模型預測出來的結果和實際的差異的依據\n",
    "YOLO 損失函數的設計包含物件位置的定位與物件類別辨識\n",
    "YOLO損失函數透過超參數設定模型有不同的辨識能力\n",
    "作業\n",
    "仔細觀察，bbox 寬高計算損失方式和bbox中心計算損失方式有哪邊不一樣嗎? 為什麼要有不同的設計? title"
   ]
  },
  {
   "cell_type": "code",
   "execution_count": 3,
   "metadata": {},
   "outputs": [
    {
     "data": {
      "text/plain": [
       "'bbox 寬高計算損失方式 => 以實際寬高開根號 - 預測寬高開根號\\nbbox 中心計算損失方式 => 以實際座標x,y - 預測座標 x,y 後 平方相加\\n差別在寬高計算是先開根號後才相減，中心座標直接相減\\n=>這樣做主要是因為相同的寬和高誤差對於小的目標精度影響比大的目標要大 例如:\\n    。因为根据 y=x^0.5，当x较小时，x的一點小的變化都會導致y大的變化，而当x较大的时候，x的一點小的變化部會讓y的變化太小。'"
      ]
     },
     "execution_count": 3,
     "metadata": {},
     "output_type": "execute_result"
    }
   ],
   "source": [
    "'''bbox 寬高計算損失方式 => 以實際寬高開根號 - 預測寬高開根號\n",
    "bbox 中心計算損失方式 => 以實際座標x,y - 預測座標 x,y 後 平方相加\n",
    "差別在寬高計算是先開根號後才相減，中心座標直接相減\n",
    "=>這樣做主要是因為相同的寬和高誤差對於小的目標精度影響比大的目標要大 例如:\n",
    "    。因为根据 y=x^0.5，當x較小時，x的一點小的變化都會導致y大的變化，而当x较大的时候，x的一點小的變化不會讓y的變化太小。'''"
   ]
  },
  {
   "cell_type": "markdown",
   "metadata": {},
   "source": []
  },
  {
   "cell_type": "code",
   "execution_count": null,
   "metadata": {},
   "outputs": [],
   "source": []
  }
 ],
 "metadata": {
  "kernelspec": {
   "display_name": "Python (tf-gpu)",
   "language": "python",
   "name": "myenv"
  },
  "language_info": {
   "codemirror_mode": {
    "name": "ipython",
    "version": 3
   },
   "file_extension": ".py",
   "mimetype": "text/x-python",
   "name": "python",
   "nbconvert_exporter": "python",
   "pygments_lexer": "ipython3",
   "version": "3.5.6"
  }
 },
 "nbformat": 4,
 "nbformat_minor": 2
}
