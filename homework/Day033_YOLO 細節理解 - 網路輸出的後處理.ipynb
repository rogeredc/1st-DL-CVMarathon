{
 "cells": [
  {
   "cell_type": "markdown",
   "metadata": {},
   "source": [
    "# YOLO 細節理解 - 網路輸出的後處理\n",
    "今天的課程，我們說明了NMS在yolo中運作的情形:\n",
    "\n",
    "NMS在YOLO的實際運作以每一個類別為主，各別執行NMS。\n",
    "YOLO 在NMS中採用的信心度為「每個 bbox 包含各類別的信心度」\n",
    "作業\n",
    "在NMS流程中，IoU重疊率參數(nms_threshold )調高，試著思考一下輸出的預測框會有甚麼變化? Hint: 可以回頭看今天介紹的內容，思考輸出的預測框變多或變少?"
   ]
  },
  {
   "cell_type": "code",
   "execution_count": 1,
   "metadata": {},
   "outputs": [
    {
     "data": {
      "text/plain": [
       "'threshold調高，預測框會變多；IoU重疊率小於threshold的Boxes才會被保存下來，threshold調高後，預測框會變多'"
      ]
     },
     "execution_count": 1,
     "metadata": {},
     "output_type": "execute_result"
    }
   ],
   "source": [
    "'threshold調高，預測框會變多；IoU重疊率小於threshold的Boxes才會被保存下來，threshold調高後，預測框會變多'"
   ]
  },
  {
   "cell_type": "code",
   "execution_count": null,
   "metadata": {},
   "outputs": [],
   "source": []
  }
 ],
 "metadata": {
  "kernelspec": {
   "display_name": "Python (tf-gpu)",
   "language": "python",
   "name": "myenv"
  },
  "language_info": {
   "codemirror_mode": {
    "name": "ipython",
    "version": 3
   },
   "file_extension": ".py",
   "mimetype": "text/x-python",
   "name": "python",
   "nbconvert_exporter": "python",
   "pygments_lexer": "ipython3",
   "version": "3.5.6"
  }
 },
 "nbformat": 4,
 "nbformat_minor": 2
}
