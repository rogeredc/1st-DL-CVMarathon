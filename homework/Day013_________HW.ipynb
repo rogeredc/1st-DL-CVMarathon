{
 "cells": [
  {
   "cell_type": "markdown",
   "metadata": {},
   "source": [
    "## 『作業內容』\n",
    "####   依照指示，搭建Maxpooling層與全連接層"
   ]
  },
  {
   "cell_type": "markdown",
   "metadata": {},
   "source": [
    "## 『目標』\n",
    "####   了解Maxpooling的原理與CNN、FC層連結的方式"
   ]
  },
  {
   "cell_type": "code",
   "execution_count": 10,
   "metadata": {},
   "outputs": [],
   "source": [
    "from keras.models import Sequential  #用來啟動 NN\n",
    "from keras.layers import Conv2D  # Convolution Operation\n",
    "from keras.layers import MaxPooling2D,GlobalAveragePooling2D # Pooling\n",
    "from keras.layers import Flatten\n",
    "from keras.layers import Dense # Fully Connected Networks\n"
   ]
  },
  {
   "cell_type": "code",
   "execution_count": 6,
   "metadata": {
    "colab": {},
    "colab_type": "code",
    "id": "43xxX0yJxiDr"
   },
   "outputs": [
    {
     "name": "stdout",
     "output_type": "stream",
     "text": [
      "_________________________________________________________________\n",
      "Layer (type)                 Output Shape              Param #   \n",
      "=================================================================\n",
      "conv2d_9 (Conv2D)            (None, 32, 32, 32)        896       \n",
      "_________________________________________________________________\n",
      "max_pooling2d_7 (MaxPooling2 (None, 16, 16, 32)        0         \n",
      "_________________________________________________________________\n",
      "conv2d_10 (Conv2D)           (None, 16, 16, 64)        18496     \n",
      "_________________________________________________________________\n",
      "max_pooling2d_8 (MaxPooling2 (None, 8, 8, 64)          0         \n",
      "_________________________________________________________________\n",
      "conv2d_11 (Conv2D)           (None, 8, 8, 128)         73856     \n",
      "_________________________________________________________________\n",
      "max_pooling2d_9 (MaxPooling2 (None, 8, 8, 128)         0         \n",
      "_________________________________________________________________\n",
      "conv2d_12 (Conv2D)           (None, 8, 8, 10)          11530     \n",
      "_________________________________________________________________\n",
      "flatten_3 (Flatten)          (None, 640)               0         \n",
      "_________________________________________________________________\n",
      "dense_3 (Dense)              (None, 28)                17948     \n",
      "=================================================================\n",
      "Total params: 122,726\n",
      "Trainable params: 122,726\n",
      "Non-trainable params: 0\n",
      "_________________________________________________________________\n"
     ]
    }
   ],
   "source": [
    "input_shape = (32, 32, 3)\n",
    "\n",
    "model = Sequential()\n",
    "\n",
    "model.add(Conv2D(32, kernel_size=(3, 3), padding='same',input_shape=input_shape))\n",
    "model.add(MaxPooling2D(pool_size=(2,2),\n",
    "                       strides =(2,2)))  \n",
    "###pooling_size=2,2 strides=2,2 輸出feature map 大小為多少？\n",
    "##第一層conv\n",
    "#params= (kernel_size_H*kernel_size_W*channels+1bias)*kernel_num=(3*3*3+1)*32=896\n",
    "#feature map   output=(input-kernel_size+2*padding)/stride+1=(32-3+2*1)/1+1=32\n",
    "##第一層maxpooling\n",
    "#feature map   output=(input-kernel_size+)/stride+1=(32-2)/2+1=16\n",
    "\n",
    "model.add(Conv2D(64, kernel_size=(3, 3), padding='same'))\n",
    "model.add(MaxPooling2D(pool_size=(2,2),\n",
    "                       strides =(2,2)))\n",
    "###pooling_size=2,2 strides=2,2 輸出feature map 大小為多少？\n",
    "##第二層conv\n",
    "#params= (kernel_size_H*kernel_size_W*channels+1bias)*kernel num=(3*3*32+1)*64=18496\n",
    "#feature map   output=(input-kernel_size+2*padding)/stride+1=(16-3+2*1)/1+1=16\n",
    "##第二層maxpooling\n",
    "#feature map   output=(input-kernel_size+)/stride+1=(16-2)/2+1=8\n",
    "\n",
    "model.add(Conv2D(128, kernel_size=(3, 3), padding='same'))\n",
    "model.add(MaxPooling2D(pool_size=(1,1),\n",
    "                       strides =(1,1)))\n",
    "###pooling_size=1,1 strides=1,1 輸出feature map 大小為多少？\n",
    "##第三層conv\n",
    "#params= (kernel_size_H*kernel_size_W*channels+1bias)*kernel num=(3*3*64+1)*128=73856\n",
    "#feature map   output=(input-kernel_size+2*padding)/stride+1=(8-3+2*1)/1+1=8\n",
    "##第三層maxpooling\n",
    "#feature map   output=(input-kernel_size+)/stride+1=(8-1)/1+1=8\n",
    "\n",
    "model.add(Conv2D(10, kernel_size=(3, 3), padding='same'))\n",
    "##第四層conv\n",
    "#params= (kernel_size_H*kernel_size_W*channels+1bias)*kernel num=(3*3*128+1)*10=11530\n",
    "#feature map   output=(input-kernel_size+2*padding)/stride+1=(8-3+2*1)/1+1=8\n",
    "model.add(Flatten()) \n",
    "###Flatten完尺寸如何變化？\n",
    "##8*8*10=640\n",
    "\n",
    "model.add(Dense(28)) ##全連接層使用28個units\n",
    "#params= (640+1)*28=17948\n",
    "\n",
    "model.summary()"
   ]
  },
  {
   "cell_type": "code",
   "execution_count": 14,
   "metadata": {
    "colab": {},
    "colab_type": "code",
    "id": "nFgU3mB-xiDt",
    "outputId": "6fb884fa-75ad-4b47-b5c6-1fc948b2d614"
   },
   "outputs": [
    {
     "name": "stdout",
     "output_type": "stream",
     "text": [
      "_________________________________________________________________\n",
      "Layer (type)                 Output Shape              Param #   \n",
      "=================================================================\n",
      "conv2d_33 (Conv2D)           (None, 32, 32, 32)        896       \n",
      "_________________________________________________________________\n",
      "max_pooling2d_25 (MaxPooling (None, 16, 16, 32)        0         \n",
      "_________________________________________________________________\n",
      "conv2d_34 (Conv2D)           (None, 16, 16, 64)        18496     \n",
      "_________________________________________________________________\n",
      "max_pooling2d_26 (MaxPooling (None, 8, 8, 64)          0         \n",
      "_________________________________________________________________\n",
      "conv2d_35 (Conv2D)           (None, 8, 8, 128)         73856     \n",
      "_________________________________________________________________\n",
      "max_pooling2d_27 (MaxPooling (None, 8, 8, 128)         0         \n",
      "_________________________________________________________________\n",
      "conv2d_36 (Conv2D)           (None, 8, 8, 10)          11530     \n",
      "_________________________________________________________________\n",
      "global_average_pooling2d_2 ( (None, 10)                0         \n",
      "_________________________________________________________________\n",
      "dense_5 (Dense)              (None, 28)                308       \n",
      "=================================================================\n",
      "Total params: 105,086\n",
      "Trainable params: 105,086\n",
      "Non-trainable params: 0\n",
      "_________________________________________________________________\n"
     ]
    }
   ],
   "source": [
    "input_shape = (32, 32, 3)\n",
    "\n",
    "model = Sequential()\n",
    "\n",
    "model.add(Conv2D(32, kernel_size=(3, 3), padding='same',input_shape=input_shape))\n",
    "model.add(MaxPooling2D(pool_size=(2,2),\n",
    "                       strides =(2,2)))  \n",
    "###pooling_size=2,2 strides=2,2 輸出feature map 大小為多少？\n",
    "##第一層conv\n",
    "#params= (kernel_size_H*kernel_size_W*channels+1bias)*kernel_num=(3*3*3+1)*32=896\n",
    "#feature map   output=(input-kernel_size+2*padding)/stride+1=(32-3+2*1)/1+1=32\n",
    "##第一層maxpooling\n",
    "#feature map   output=(input-kernel_size+)/stride+1=(32-2)/2+1=16\n",
    "\n",
    "model.add(Conv2D(64, kernel_size=(3, 3), padding='same'))\n",
    "model.add(MaxPooling2D(pool_size=(2,2),\n",
    "                       strides =(2,2)))\n",
    "###pooling_size=2,2 strides=2,2 輸出feature map 大小為多少？\n",
    "##第二層conv\n",
    "#params= (kernel_size_H*kernel_size_W*channels+1bias)*kernel num=(3*3*32+1)*64=18496\n",
    "#feature map   output=(input-kernel_size+2*padding)/stride+1=(16-3+2*1)/1+1=16\n",
    "##第二層maxpooling\n",
    "#feature map   output=(input-kernel_size+)/stride+1=(16-2)/2+1=8\n",
    "\n",
    "model.add(Conv2D(128, kernel_size=(3, 3), padding='same'))\n",
    "model.add(MaxPooling2D(pool_size=(1,1),\n",
    "                       strides =(1,1)))\n",
    "###pooling_size=1,1 strides=1,1 輸出feature map 大小為多少？\n",
    "##第三層conv\n",
    "#params= (kernel_size_H*kernel_size_W*channels+1bias)*kernel num=(3*3*64+1)*128=73856\n",
    "#feature map   output=(input-kernel_size+2*padding)/stride+1=(8-3+2*1)/1+1=8\n",
    "##第三層maxpooling\n",
    "#feature map   output=(input-kernel_size+)/stride+1=(8-1)/1+1=8\n",
    "\n",
    "model.add(Conv2D(10, kernel_size=(3, 3), padding='same'))\n",
    "##第四層conv\n",
    "#params= (kernel_size_H*kernel_size_W*channels+1bias)*kernel num=(3*3*128+1)*10=11530\n",
    "#feature map   output=(input-kernel_size+2*padding)/stride+1=(8-3+2*1)/1+1=8\n",
    "\n",
    "model.add(GlobalAveragePooling2D()) #關掉Flatten，使用GlobalAveragePooling2D，完尺寸如何變化？\n",
    "\n",
    "\n",
    "model.add(Dense(28)) ##全連接層使用28個units\n",
    "#params= (640+1)*28=17948\n",
    "\n",
    "model.summary()"
   ]
  },
  {
   "cell_type": "code",
   "execution_count": null,
   "metadata": {},
   "outputs": [],
   "source": []
  }
 ],
 "metadata": {
  "colab": {
   "name": "池化、全連接層.ipynb",
   "provenance": []
  },
  "kernelspec": {
   "display_name": "Python (tf-gpu)",
   "language": "python",
   "name": "myenv"
  },
  "language_info": {
   "codemirror_mode": {
    "name": "ipython",
    "version": 3
   },
   "file_extension": ".py",
   "mimetype": "text/x-python",
   "name": "python",
   "nbconvert_exporter": "python",
   "pygments_lexer": "ipython3",
   "version": "3.5.6"
  }
 },
 "nbformat": 4,
 "nbformat_minor": 1
}
